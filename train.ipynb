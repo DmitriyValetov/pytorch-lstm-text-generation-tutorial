{
 "cells": [
  {
   "cell_type": "code",
   "execution_count": 1,
   "metadata": {},
   "outputs": [],
   "source": [
    "from model import Model\n",
    "from dataset import Dataset\n",
    "from train import train, predict"
   ]
  },
  {
   "cell_type": "code",
   "execution_count": 4,
   "metadata": {},
   "outputs": [],
   "source": [
    "sequence_length = 6\n",
    "batch_size = 1024\n",
    "epochs = 1"
   ]
  },
  {
   "cell_type": "code",
   "execution_count": 5,
   "metadata": {},
   "outputs": [],
   "source": [
    "dataset = Dataset(sequence_length=sequence_length)\n",
    "model = Model(dataset)"
   ]
  },
  {
   "cell_type": "code",
   "execution_count": 8,
   "metadata": {},
   "outputs": [
    {
     "name": "stdout",
     "output_type": "stream",
     "text": [
      "{'epoch': 0, 'batch': 0, 'loss': 7.242246150970459}\n",
      "{'epoch': 0, 'batch': 1, 'loss': 7.2429962158203125}\n",
      "{'epoch': 0, 'batch': 2, 'loss': 7.145594120025635}\n",
      "{'epoch': 0, 'batch': 3, 'loss': 7.1049885749816895}\n",
      "{'epoch': 0, 'batch': 4, 'loss': 7.112766742706299}\n",
      "{'epoch': 0, 'batch': 5, 'loss': 7.130662441253662}\n",
      "{'epoch': 0, 'batch': 6, 'loss': 7.0418853759765625}\n",
      "{'epoch': 0, 'batch': 7, 'loss': 7.080631732940674}\n",
      "{'epoch': 0, 'batch': 8, 'loss': 7.133340835571289}\n",
      "{'epoch': 0, 'batch': 9, 'loss': 7.314226150512695}\n",
      "{'epoch': 0, 'batch': 10, 'loss': 7.362781047821045}\n",
      "{'epoch': 0, 'batch': 11, 'loss': 7.413492202758789}\n",
      "{'epoch': 1, 'batch': 0, 'loss': 6.978661060333252}\n",
      "{'epoch': 1, 'batch': 1, 'loss': 7.014686107635498}\n",
      "{'epoch': 1, 'batch': 2, 'loss': 6.946351528167725}\n",
      "{'epoch': 1, 'batch': 3, 'loss': 6.957981586456299}\n",
      "{'epoch': 1, 'batch': 4, 'loss': 7.002784729003906}\n",
      "{'epoch': 1, 'batch': 5, 'loss': 7.073038578033447}\n",
      "{'epoch': 1, 'batch': 6, 'loss': 7.008853435516357}\n",
      "{'epoch': 1, 'batch': 7, 'loss': 7.029256820678711}\n",
      "{'epoch': 1, 'batch': 8, 'loss': 7.063745498657227}\n",
      "{'epoch': 1, 'batch': 9, 'loss': 7.2162556648254395}\n",
      "{'epoch': 1, 'batch': 10, 'loss': 7.243587493896484}\n",
      "{'epoch': 1, 'batch': 11, 'loss': 7.251229763031006}\n",
      "{'epoch': 2, 'batch': 0, 'loss': 7.031531810760498}\n",
      "{'epoch': 2, 'batch': 1, 'loss': 7.024475574493408}\n",
      "{'epoch': 2, 'batch': 2, 'loss': 6.936929225921631}\n",
      "{'epoch': 2, 'batch': 3, 'loss': 6.947658538818359}\n",
      "{'epoch': 2, 'batch': 4, 'loss': 6.9952850341796875}\n",
      "{'epoch': 2, 'batch': 5, 'loss': 7.070170879364014}\n",
      "{'epoch': 2, 'batch': 6, 'loss': 7.0021514892578125}\n",
      "{'epoch': 2, 'batch': 7, 'loss': 7.0038228034973145}\n",
      "{'epoch': 2, 'batch': 8, 'loss': 7.025701522827148}\n",
      "{'epoch': 2, 'batch': 9, 'loss': 7.154159069061279}\n",
      "{'epoch': 2, 'batch': 10, 'loss': 7.162313938140869}\n",
      "{'epoch': 2, 'batch': 11, 'loss': 7.143636226654053}\n"
     ]
    }
   ],
   "source": [
    "train(dataset, model, 5, 2048, sequence_length)"
   ]
  },
  {
   "cell_type": "code",
   "execution_count": 9,
   "metadata": {},
   "outputs": [
    {
     "name": "stdout",
     "output_type": "stream",
     "text": [
      "['Knock', 'knock.', 'Whos', 'there?', 'gorillas', 'farm?', 'turkey?', 'legs?', 'can', 'animal?', 'bother', 'went', 'gun', 'it.', 'was', 'contest...', 'What', 'of', 'make', 'table?', 'day,', 'stand', 'suit.', 'night...', 'on', 'novocaine', 'joke', 'and', 'League?', 'than', 'To', 'Well,', 'Do', '.', 'hand', 'eye', 'mile', 'A', '..', 'you', 'its', 'Christmas!', 'him', 'they', 'Knock', 'these', 'sex', 'pokey', 'ship.', 'they', 'caught', 'together.', 'a', 'exhausted.', 'out', 'the', 'The', 'blind', 'Square', 'pearl?', 'Yoda', 'with', 'When', 'more', 'one', 'was', 'a', 'wanted', 'unpainted', 'League?', 'there?', 'of', 'sold', 'car', '(via', 'did', \"'n\", 'A', 'just', 'in', 'up', 'cookbook?', 'to', 'Why', 'scares', 'the', 'bunny', 'getting', 'a', 'so', 'budapest!\"', \"that's\", 'of', 'me', 'over', 'banana', 'a', 'no', 'a', 'I', 'of', 'standing', 'really', 'said']\n"
     ]
    }
   ],
   "source": [
    "print(predict(dataset, model, text='Knock knock. Whos there?'))"
   ]
  }
 ],
 "metadata": {
  "kernelspec": {
   "display_name": "Python 3",
   "language": "python",
   "name": "python3"
  },
  "language_info": {
   "codemirror_mode": {
    "name": "ipython",
    "version": 3
   },
   "file_extension": ".py",
   "mimetype": "text/x-python",
   "name": "python",
   "nbconvert_exporter": "python",
   "pygments_lexer": "ipython3",
   "version": "3.8.5"
  }
 },
 "nbformat": 4,
 "nbformat_minor": 4
}
